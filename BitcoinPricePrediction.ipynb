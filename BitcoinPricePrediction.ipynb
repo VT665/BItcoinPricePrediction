{
  "nbformat": 4,
  "nbformat_minor": 0,
  "metadata": {
    "colab": {
      "provenance": []
    },
    "kernelspec": {
      "name": "python3",
      "display_name": "Python 3"
    },
    "language_info": {
      "name": "python"
    }
  },
  "cells": [
    {
      "cell_type": "markdown",
      "source": [
        "IMPORTING THE DEPENDENCIES"
      ],
      "metadata": {
        "id": "bgAchKd_QnHM"
      }
    },
    {
      "cell_type": "code",
      "execution_count": 544,
      "metadata": {
        "id": "JDcz07fCQfu-"
      },
      "outputs": [],
      "source": [
        "import numpy as np\n",
        "import matplotlib.pyplot as plt\n",
        "import pandas as pd\n",
        "import seaborn as sns\n",
        "from sklearn.preprocessing import MinMaxScaler"
      ]
    },
    {
      "cell_type": "markdown",
      "source": [
        "COLLECTING DATA"
      ],
      "metadata": {
        "id": "zeAqBkEyQ6VU"
      }
    },
    {
      "cell_type": "code",
      "source": [
        "data_df = pd.read_csv('BTC-USD.csv', date_parser = True)\n",
        "data_df"
      ],
      "metadata": {
        "colab": {
          "base_uri": "https://localhost:8080/",
          "height": 423
        },
        "id": "gRYXN_npYYdg",
        "outputId": "6b85747d-6597-4dfc-d8d9-fd3cae76536e"
      },
      "execution_count": 545,
      "outputs": [
        {
          "output_type": "execute_result",
          "data": {
            "text/plain": [
              "           Date          Open          High           Low         Close  \\\n",
              "0    2020-12-11  18263.929688  18268.453125  17619.533203  18058.904297   \n",
              "1    2020-12-12  18051.320313  18919.550781  18046.041016  18803.656250   \n",
              "2    2020-12-13  18806.765625  19381.535156  18734.332031  19142.382813   \n",
              "3    2020-12-14  19144.492188  19305.099609  19012.708984  19246.644531   \n",
              "4    2020-12-15  19246.919922  19525.007813  19079.841797  19417.076172   \n",
              "..          ...           ...           ...           ...           ...   \n",
              "361  2021-12-07  50581.828125  51934.781250  50175.808594  50700.085938   \n",
              "362  2021-12-08  50667.648438  51171.375000  48765.988281  50504.796875   \n",
              "363  2021-12-09  50450.082031  50797.164063  47358.351563  47672.121094   \n",
              "364  2021-12-10  47642.144531  50015.253906  47023.699219  47243.304688   \n",
              "365  2021-12-11  47339.375000  48815.453125  46942.347656  48306.109375   \n",
              "\n",
              "        Adj Close       Volume  \n",
              "0    18058.904297  27919640985  \n",
              "1    18803.656250  21752580802  \n",
              "2    19142.382813  25450468637  \n",
              "3    19246.644531  22473997681  \n",
              "4    19417.076172  26741982541  \n",
              "..            ...          ...  \n",
              "361  50700.085938  33676814852  \n",
              "362  50504.796875  28479699446  \n",
              "363  47672.121094  29603577251  \n",
              "364  47243.304688  30966005122  \n",
              "365  48306.109375  32251240448  \n",
              "\n",
              "[366 rows x 7 columns]"
            ],
            "text/html": [
              "\n",
              "  <div id=\"df-f5004469-9dec-4814-bff4-5aa289b32461\" class=\"colab-df-container\">\n",
              "    <div>\n",
              "<style scoped>\n",
              "    .dataframe tbody tr th:only-of-type {\n",
              "        vertical-align: middle;\n",
              "    }\n",
              "\n",
              "    .dataframe tbody tr th {\n",
              "        vertical-align: top;\n",
              "    }\n",
              "\n",
              "    .dataframe thead th {\n",
              "        text-align: right;\n",
              "    }\n",
              "</style>\n",
              "<table border=\"1\" class=\"dataframe\">\n",
              "  <thead>\n",
              "    <tr style=\"text-align: right;\">\n",
              "      <th></th>\n",
              "      <th>Date</th>\n",
              "      <th>Open</th>\n",
              "      <th>High</th>\n",
              "      <th>Low</th>\n",
              "      <th>Close</th>\n",
              "      <th>Adj Close</th>\n",
              "      <th>Volume</th>\n",
              "    </tr>\n",
              "  </thead>\n",
              "  <tbody>\n",
              "    <tr>\n",
              "      <th>0</th>\n",
              "      <td>2020-12-11</td>\n",
              "      <td>18263.929688</td>\n",
              "      <td>18268.453125</td>\n",
              "      <td>17619.533203</td>\n",
              "      <td>18058.904297</td>\n",
              "      <td>18058.904297</td>\n",
              "      <td>27919640985</td>\n",
              "    </tr>\n",
              "    <tr>\n",
              "      <th>1</th>\n",
              "      <td>2020-12-12</td>\n",
              "      <td>18051.320313</td>\n",
              "      <td>18919.550781</td>\n",
              "      <td>18046.041016</td>\n",
              "      <td>18803.656250</td>\n",
              "      <td>18803.656250</td>\n",
              "      <td>21752580802</td>\n",
              "    </tr>\n",
              "    <tr>\n",
              "      <th>2</th>\n",
              "      <td>2020-12-13</td>\n",
              "      <td>18806.765625</td>\n",
              "      <td>19381.535156</td>\n",
              "      <td>18734.332031</td>\n",
              "      <td>19142.382813</td>\n",
              "      <td>19142.382813</td>\n",
              "      <td>25450468637</td>\n",
              "    </tr>\n",
              "    <tr>\n",
              "      <th>3</th>\n",
              "      <td>2020-12-14</td>\n",
              "      <td>19144.492188</td>\n",
              "      <td>19305.099609</td>\n",
              "      <td>19012.708984</td>\n",
              "      <td>19246.644531</td>\n",
              "      <td>19246.644531</td>\n",
              "      <td>22473997681</td>\n",
              "    </tr>\n",
              "    <tr>\n",
              "      <th>4</th>\n",
              "      <td>2020-12-15</td>\n",
              "      <td>19246.919922</td>\n",
              "      <td>19525.007813</td>\n",
              "      <td>19079.841797</td>\n",
              "      <td>19417.076172</td>\n",
              "      <td>19417.076172</td>\n",
              "      <td>26741982541</td>\n",
              "    </tr>\n",
              "    <tr>\n",
              "      <th>...</th>\n",
              "      <td>...</td>\n",
              "      <td>...</td>\n",
              "      <td>...</td>\n",
              "      <td>...</td>\n",
              "      <td>...</td>\n",
              "      <td>...</td>\n",
              "      <td>...</td>\n",
              "    </tr>\n",
              "    <tr>\n",
              "      <th>361</th>\n",
              "      <td>2021-12-07</td>\n",
              "      <td>50581.828125</td>\n",
              "      <td>51934.781250</td>\n",
              "      <td>50175.808594</td>\n",
              "      <td>50700.085938</td>\n",
              "      <td>50700.085938</td>\n",
              "      <td>33676814852</td>\n",
              "    </tr>\n",
              "    <tr>\n",
              "      <th>362</th>\n",
              "      <td>2021-12-08</td>\n",
              "      <td>50667.648438</td>\n",
              "      <td>51171.375000</td>\n",
              "      <td>48765.988281</td>\n",
              "      <td>50504.796875</td>\n",
              "      <td>50504.796875</td>\n",
              "      <td>28479699446</td>\n",
              "    </tr>\n",
              "    <tr>\n",
              "      <th>363</th>\n",
              "      <td>2021-12-09</td>\n",
              "      <td>50450.082031</td>\n",
              "      <td>50797.164063</td>\n",
              "      <td>47358.351563</td>\n",
              "      <td>47672.121094</td>\n",
              "      <td>47672.121094</td>\n",
              "      <td>29603577251</td>\n",
              "    </tr>\n",
              "    <tr>\n",
              "      <th>364</th>\n",
              "      <td>2021-12-10</td>\n",
              "      <td>47642.144531</td>\n",
              "      <td>50015.253906</td>\n",
              "      <td>47023.699219</td>\n",
              "      <td>47243.304688</td>\n",
              "      <td>47243.304688</td>\n",
              "      <td>30966005122</td>\n",
              "    </tr>\n",
              "    <tr>\n",
              "      <th>365</th>\n",
              "      <td>2021-12-11</td>\n",
              "      <td>47339.375000</td>\n",
              "      <td>48815.453125</td>\n",
              "      <td>46942.347656</td>\n",
              "      <td>48306.109375</td>\n",
              "      <td>48306.109375</td>\n",
              "      <td>32251240448</td>\n",
              "    </tr>\n",
              "  </tbody>\n",
              "</table>\n",
              "<p>366 rows × 7 columns</p>\n",
              "</div>\n",
              "    <div class=\"colab-df-buttons\">\n",
              "\n",
              "  <div class=\"colab-df-container\">\n",
              "    <button class=\"colab-df-convert\" onclick=\"convertToInteractive('df-f5004469-9dec-4814-bff4-5aa289b32461')\"\n",
              "            title=\"Convert this dataframe to an interactive table.\"\n",
              "            style=\"display:none;\">\n",
              "\n",
              "  <svg xmlns=\"http://www.w3.org/2000/svg\" height=\"24px\" viewBox=\"0 -960 960 960\">\n",
              "    <path d=\"M120-120v-720h720v720H120Zm60-500h600v-160H180v160Zm220 220h160v-160H400v160Zm0 220h160v-160H400v160ZM180-400h160v-160H180v160Zm440 0h160v-160H620v160ZM180-180h160v-160H180v160Zm440 0h160v-160H620v160Z\"/>\n",
              "  </svg>\n",
              "    </button>\n",
              "\n",
              "  <style>\n",
              "    .colab-df-container {\n",
              "      display:flex;\n",
              "      gap: 12px;\n",
              "    }\n",
              "\n",
              "    .colab-df-convert {\n",
              "      background-color: #E8F0FE;\n",
              "      border: none;\n",
              "      border-radius: 50%;\n",
              "      cursor: pointer;\n",
              "      display: none;\n",
              "      fill: #1967D2;\n",
              "      height: 32px;\n",
              "      padding: 0 0 0 0;\n",
              "      width: 32px;\n",
              "    }\n",
              "\n",
              "    .colab-df-convert:hover {\n",
              "      background-color: #E2EBFA;\n",
              "      box-shadow: 0px 1px 2px rgba(60, 64, 67, 0.3), 0px 1px 3px 1px rgba(60, 64, 67, 0.15);\n",
              "      fill: #174EA6;\n",
              "    }\n",
              "\n",
              "    .colab-df-buttons div {\n",
              "      margin-bottom: 4px;\n",
              "    }\n",
              "\n",
              "    [theme=dark] .colab-df-convert {\n",
              "      background-color: #3B4455;\n",
              "      fill: #D2E3FC;\n",
              "    }\n",
              "\n",
              "    [theme=dark] .colab-df-convert:hover {\n",
              "      background-color: #434B5C;\n",
              "      box-shadow: 0px 1px 3px 1px rgba(0, 0, 0, 0.15);\n",
              "      filter: drop-shadow(0px 1px 2px rgba(0, 0, 0, 0.3));\n",
              "      fill: #FFFFFF;\n",
              "    }\n",
              "  </style>\n",
              "\n",
              "    <script>\n",
              "      const buttonEl =\n",
              "        document.querySelector('#df-f5004469-9dec-4814-bff4-5aa289b32461 button.colab-df-convert');\n",
              "      buttonEl.style.display =\n",
              "        google.colab.kernel.accessAllowed ? 'block' : 'none';\n",
              "\n",
              "      async function convertToInteractive(key) {\n",
              "        const element = document.querySelector('#df-f5004469-9dec-4814-bff4-5aa289b32461');\n",
              "        const dataTable =\n",
              "          await google.colab.kernel.invokeFunction('convertToInteractive',\n",
              "                                                    [key], {});\n",
              "        if (!dataTable) return;\n",
              "\n",
              "        const docLinkHtml = 'Like what you see? Visit the ' +\n",
              "          '<a target=\"_blank\" href=https://colab.research.google.com/notebooks/data_table.ipynb>data table notebook</a>'\n",
              "          + ' to learn more about interactive tables.';\n",
              "        element.innerHTML = '';\n",
              "        dataTable['output_type'] = 'display_data';\n",
              "        await google.colab.output.renderOutput(dataTable, element);\n",
              "        const docLink = document.createElement('div');\n",
              "        docLink.innerHTML = docLinkHtml;\n",
              "        element.appendChild(docLink);\n",
              "      }\n",
              "    </script>\n",
              "  </div>\n",
              "\n",
              "\n",
              "<div id=\"df-6a6f3d0b-052e-48f0-8ccc-81e1180e9c3c\">\n",
              "  <button class=\"colab-df-quickchart\" onclick=\"quickchart('df-6a6f3d0b-052e-48f0-8ccc-81e1180e9c3c')\"\n",
              "            title=\"Suggest charts.\"\n",
              "            style=\"display:none;\">\n",
              "\n",
              "<svg xmlns=\"http://www.w3.org/2000/svg\" height=\"24px\"viewBox=\"0 0 24 24\"\n",
              "     width=\"24px\">\n",
              "    <g>\n",
              "        <path d=\"M19 3H5c-1.1 0-2 .9-2 2v14c0 1.1.9 2 2 2h14c1.1 0 2-.9 2-2V5c0-1.1-.9-2-2-2zM9 17H7v-7h2v7zm4 0h-2V7h2v10zm4 0h-2v-4h2v4z\"/>\n",
              "    </g>\n",
              "</svg>\n",
              "  </button>\n",
              "\n",
              "<style>\n",
              "  .colab-df-quickchart {\n",
              "    background-color: #E8F0FE;\n",
              "    border: none;\n",
              "    border-radius: 50%;\n",
              "    cursor: pointer;\n",
              "    display: none;\n",
              "    fill: #1967D2;\n",
              "    height: 32px;\n",
              "    padding: 0 0 0 0;\n",
              "    width: 32px;\n",
              "  }\n",
              "\n",
              "  .colab-df-quickchart:hover {\n",
              "    background-color: #E2EBFA;\n",
              "    box-shadow: 0px 1px 2px rgba(60, 64, 67, 0.3), 0px 1px 3px 1px rgba(60, 64, 67, 0.15);\n",
              "    fill: #174EA6;\n",
              "  }\n",
              "\n",
              "  [theme=dark] .colab-df-quickchart {\n",
              "    background-color: #3B4455;\n",
              "    fill: #D2E3FC;\n",
              "  }\n",
              "\n",
              "  [theme=dark] .colab-df-quickchart:hover {\n",
              "    background-color: #434B5C;\n",
              "    box-shadow: 0px 1px 3px 1px rgba(0, 0, 0, 0.15);\n",
              "    filter: drop-shadow(0px 1px 2px rgba(0, 0, 0, 0.3));\n",
              "    fill: #FFFFFF;\n",
              "  }\n",
              "</style>\n",
              "\n",
              "  <script>\n",
              "    async function quickchart(key) {\n",
              "      const charts = await google.colab.kernel.invokeFunction(\n",
              "          'suggestCharts', [key], {});\n",
              "    }\n",
              "    (() => {\n",
              "      let quickchartButtonEl =\n",
              "        document.querySelector('#df-6a6f3d0b-052e-48f0-8ccc-81e1180e9c3c button');\n",
              "      quickchartButtonEl.style.display =\n",
              "        google.colab.kernel.accessAllowed ? 'block' : 'none';\n",
              "    })();\n",
              "  </script>\n",
              "</div>\n",
              "    </div>\n",
              "  </div>\n"
            ]
          },
          "metadata": {},
          "execution_count": 545
        }
      ]
    },
    {
      "cell_type": "markdown",
      "source": [
        "REMOVING UNNECESSARY COLUMNS"
      ],
      "metadata": {
        "id": "IiZxyc4cibhg"
      }
    },
    {
      "cell_type": "code",
      "source": [
        "data = data_df.drop(['Date', 'Adj Close'], axis = 1)\n",
        "data.head()"
      ],
      "metadata": {
        "colab": {
          "base_uri": "https://localhost:8080/",
          "height": 206
        },
        "id": "tsbQWx8bYtid",
        "outputId": "aadd4337-45ba-42bd-f0d0-1200e721f943"
      },
      "execution_count": 546,
      "outputs": [
        {
          "output_type": "execute_result",
          "data": {
            "text/plain": [
              "           Open          High           Low         Close       Volume\n",
              "0  18263.929688  18268.453125  17619.533203  18058.904297  27919640985\n",
              "1  18051.320313  18919.550781  18046.041016  18803.656250  21752580802\n",
              "2  18806.765625  19381.535156  18734.332031  19142.382813  25450468637\n",
              "3  19144.492188  19305.099609  19012.708984  19246.644531  22473997681\n",
              "4  19246.919922  19525.007813  19079.841797  19417.076172  26741982541"
            ],
            "text/html": [
              "\n",
              "  <div id=\"df-9b6bd3f5-44cb-4060-bda4-0fd81f7f6e76\" class=\"colab-df-container\">\n",
              "    <div>\n",
              "<style scoped>\n",
              "    .dataframe tbody tr th:only-of-type {\n",
              "        vertical-align: middle;\n",
              "    }\n",
              "\n",
              "    .dataframe tbody tr th {\n",
              "        vertical-align: top;\n",
              "    }\n",
              "\n",
              "    .dataframe thead th {\n",
              "        text-align: right;\n",
              "    }\n",
              "</style>\n",
              "<table border=\"1\" class=\"dataframe\">\n",
              "  <thead>\n",
              "    <tr style=\"text-align: right;\">\n",
              "      <th></th>\n",
              "      <th>Open</th>\n",
              "      <th>High</th>\n",
              "      <th>Low</th>\n",
              "      <th>Close</th>\n",
              "      <th>Volume</th>\n",
              "    </tr>\n",
              "  </thead>\n",
              "  <tbody>\n",
              "    <tr>\n",
              "      <th>0</th>\n",
              "      <td>18263.929688</td>\n",
              "      <td>18268.453125</td>\n",
              "      <td>17619.533203</td>\n",
              "      <td>18058.904297</td>\n",
              "      <td>27919640985</td>\n",
              "    </tr>\n",
              "    <tr>\n",
              "      <th>1</th>\n",
              "      <td>18051.320313</td>\n",
              "      <td>18919.550781</td>\n",
              "      <td>18046.041016</td>\n",
              "      <td>18803.656250</td>\n",
              "      <td>21752580802</td>\n",
              "    </tr>\n",
              "    <tr>\n",
              "      <th>2</th>\n",
              "      <td>18806.765625</td>\n",
              "      <td>19381.535156</td>\n",
              "      <td>18734.332031</td>\n",
              "      <td>19142.382813</td>\n",
              "      <td>25450468637</td>\n",
              "    </tr>\n",
              "    <tr>\n",
              "      <th>3</th>\n",
              "      <td>19144.492188</td>\n",
              "      <td>19305.099609</td>\n",
              "      <td>19012.708984</td>\n",
              "      <td>19246.644531</td>\n",
              "      <td>22473997681</td>\n",
              "    </tr>\n",
              "    <tr>\n",
              "      <th>4</th>\n",
              "      <td>19246.919922</td>\n",
              "      <td>19525.007813</td>\n",
              "      <td>19079.841797</td>\n",
              "      <td>19417.076172</td>\n",
              "      <td>26741982541</td>\n",
              "    </tr>\n",
              "  </tbody>\n",
              "</table>\n",
              "</div>\n",
              "    <div class=\"colab-df-buttons\">\n",
              "\n",
              "  <div class=\"colab-df-container\">\n",
              "    <button class=\"colab-df-convert\" onclick=\"convertToInteractive('df-9b6bd3f5-44cb-4060-bda4-0fd81f7f6e76')\"\n",
              "            title=\"Convert this dataframe to an interactive table.\"\n",
              "            style=\"display:none;\">\n",
              "\n",
              "  <svg xmlns=\"http://www.w3.org/2000/svg\" height=\"24px\" viewBox=\"0 -960 960 960\">\n",
              "    <path d=\"M120-120v-720h720v720H120Zm60-500h600v-160H180v160Zm220 220h160v-160H400v160Zm0 220h160v-160H400v160ZM180-400h160v-160H180v160Zm440 0h160v-160H620v160ZM180-180h160v-160H180v160Zm440 0h160v-160H620v160Z\"/>\n",
              "  </svg>\n",
              "    </button>\n",
              "\n",
              "  <style>\n",
              "    .colab-df-container {\n",
              "      display:flex;\n",
              "      gap: 12px;\n",
              "    }\n",
              "\n",
              "    .colab-df-convert {\n",
              "      background-color: #E8F0FE;\n",
              "      border: none;\n",
              "      border-radius: 50%;\n",
              "      cursor: pointer;\n",
              "      display: none;\n",
              "      fill: #1967D2;\n",
              "      height: 32px;\n",
              "      padding: 0 0 0 0;\n",
              "      width: 32px;\n",
              "    }\n",
              "\n",
              "    .colab-df-convert:hover {\n",
              "      background-color: #E2EBFA;\n",
              "      box-shadow: 0px 1px 2px rgba(60, 64, 67, 0.3), 0px 1px 3px 1px rgba(60, 64, 67, 0.15);\n",
              "      fill: #174EA6;\n",
              "    }\n",
              "\n",
              "    .colab-df-buttons div {\n",
              "      margin-bottom: 4px;\n",
              "    }\n",
              "\n",
              "    [theme=dark] .colab-df-convert {\n",
              "      background-color: #3B4455;\n",
              "      fill: #D2E3FC;\n",
              "    }\n",
              "\n",
              "    [theme=dark] .colab-df-convert:hover {\n",
              "      background-color: #434B5C;\n",
              "      box-shadow: 0px 1px 3px 1px rgba(0, 0, 0, 0.15);\n",
              "      filter: drop-shadow(0px 1px 2px rgba(0, 0, 0, 0.3));\n",
              "      fill: #FFFFFF;\n",
              "    }\n",
              "  </style>\n",
              "\n",
              "    <script>\n",
              "      const buttonEl =\n",
              "        document.querySelector('#df-9b6bd3f5-44cb-4060-bda4-0fd81f7f6e76 button.colab-df-convert');\n",
              "      buttonEl.style.display =\n",
              "        google.colab.kernel.accessAllowed ? 'block' : 'none';\n",
              "\n",
              "      async function convertToInteractive(key) {\n",
              "        const element = document.querySelector('#df-9b6bd3f5-44cb-4060-bda4-0fd81f7f6e76');\n",
              "        const dataTable =\n",
              "          await google.colab.kernel.invokeFunction('convertToInteractive',\n",
              "                                                    [key], {});\n",
              "        if (!dataTable) return;\n",
              "\n",
              "        const docLinkHtml = 'Like what you see? Visit the ' +\n",
              "          '<a target=\"_blank\" href=https://colab.research.google.com/notebooks/data_table.ipynb>data table notebook</a>'\n",
              "          + ' to learn more about interactive tables.';\n",
              "        element.innerHTML = '';\n",
              "        dataTable['output_type'] = 'display_data';\n",
              "        await google.colab.output.renderOutput(dataTable, element);\n",
              "        const docLink = document.createElement('div');\n",
              "        docLink.innerHTML = docLinkHtml;\n",
              "        element.appendChild(docLink);\n",
              "      }\n",
              "    </script>\n",
              "  </div>\n",
              "\n",
              "\n",
              "<div id=\"df-bd43a074-703d-4bab-ab0a-f81d6460eae7\">\n",
              "  <button class=\"colab-df-quickchart\" onclick=\"quickchart('df-bd43a074-703d-4bab-ab0a-f81d6460eae7')\"\n",
              "            title=\"Suggest charts.\"\n",
              "            style=\"display:none;\">\n",
              "\n",
              "<svg xmlns=\"http://www.w3.org/2000/svg\" height=\"24px\"viewBox=\"0 0 24 24\"\n",
              "     width=\"24px\">\n",
              "    <g>\n",
              "        <path d=\"M19 3H5c-1.1 0-2 .9-2 2v14c0 1.1.9 2 2 2h14c1.1 0 2-.9 2-2V5c0-1.1-.9-2-2-2zM9 17H7v-7h2v7zm4 0h-2V7h2v10zm4 0h-2v-4h2v4z\"/>\n",
              "    </g>\n",
              "</svg>\n",
              "  </button>\n",
              "\n",
              "<style>\n",
              "  .colab-df-quickchart {\n",
              "    background-color: #E8F0FE;\n",
              "    border: none;\n",
              "    border-radius: 50%;\n",
              "    cursor: pointer;\n",
              "    display: none;\n",
              "    fill: #1967D2;\n",
              "    height: 32px;\n",
              "    padding: 0 0 0 0;\n",
              "    width: 32px;\n",
              "  }\n",
              "\n",
              "  .colab-df-quickchart:hover {\n",
              "    background-color: #E2EBFA;\n",
              "    box-shadow: 0px 1px 2px rgba(60, 64, 67, 0.3), 0px 1px 3px 1px rgba(60, 64, 67, 0.15);\n",
              "    fill: #174EA6;\n",
              "  }\n",
              "\n",
              "  [theme=dark] .colab-df-quickchart {\n",
              "    background-color: #3B4455;\n",
              "    fill: #D2E3FC;\n",
              "  }\n",
              "\n",
              "  [theme=dark] .colab-df-quickchart:hover {\n",
              "    background-color: #434B5C;\n",
              "    box-shadow: 0px 1px 3px 1px rgba(0, 0, 0, 0.15);\n",
              "    filter: drop-shadow(0px 1px 2px rgba(0, 0, 0, 0.3));\n",
              "    fill: #FFFFFF;\n",
              "  }\n",
              "</style>\n",
              "\n",
              "  <script>\n",
              "    async function quickchart(key) {\n",
              "      const charts = await google.colab.kernel.invokeFunction(\n",
              "          'suggestCharts', [key], {});\n",
              "    }\n",
              "    (() => {\n",
              "      let quickchartButtonEl =\n",
              "        document.querySelector('#df-bd43a074-703d-4bab-ab0a-f81d6460eae7 button');\n",
              "      quickchartButtonEl.style.display =\n",
              "        google.colab.kernel.accessAllowed ? 'block' : 'none';\n",
              "    })();\n",
              "  </script>\n",
              "</div>\n",
              "    </div>\n",
              "  </div>\n"
            ]
          },
          "metadata": {},
          "execution_count": 546
        }
      ]
    },
    {
      "cell_type": "markdown",
      "source": [
        "SCALING THE PARAMETERS USING MIN MAX SCALER with MIN - 0 and MAX - 1"
      ],
      "metadata": {
        "id": "zCP_T2BIiqaJ"
      }
    },
    {
      "cell_type": "code",
      "source": [
        "scaler = MinMaxScaler()\n",
        "data = scaler.fit_transform(data)\n",
        "data"
      ],
      "metadata": {
        "colab": {
          "base_uri": "https://localhost:8080/"
        },
        "id": "nMDc6EQUY8rP",
        "outputId": "2fe7cfd2-fb3e-47f1-8f21-6b72fb5f0b38"
      },
      "execution_count": 547,
      "outputs": [
        {
          "output_type": "execute_result",
          "data": {
            "text/plain": [
              "array([[0.00429528, 0.        , 0.        , 0.        , 0.02749008],\n",
              "       [0.        , 0.01288762, 0.00874663, 0.01504309, 0.00892466],\n",
              "       [0.01526201, 0.02203199, 0.02286179, 0.02188495, 0.02005685],\n",
              "       ...,\n",
              "       [0.65454141, 0.64386295, 0.6098703 , 0.59815105, 0.03255943],\n",
              "       [0.59781358, 0.62838607, 0.6030074 , 0.58948948, 0.03666091],\n",
              "       [0.59169683, 0.6046376 , 0.60133908, 0.61095685, 0.04053   ]])"
            ]
          },
          "metadata": {},
          "execution_count": 547
        }
      ]
    },
    {
      "cell_type": "code",
      "source": [
        "data.shape[0]"
      ],
      "metadata": {
        "colab": {
          "base_uri": "https://localhost:8080/"
        },
        "id": "JxaeXyVShYfr",
        "outputId": "a111683b-9070-46ce-aa56-b288bcb00783"
      },
      "execution_count": 548,
      "outputs": [
        {
          "output_type": "execute_result",
          "data": {
            "text/plain": [
              "366"
            ]
          },
          "metadata": {},
          "execution_count": 548
        }
      ]
    },
    {
      "cell_type": "markdown",
      "source": [
        "Creating LSTM Training Dataset using 311 samples with time step of 50 Days (256 samples of size 50x5)\n"
      ],
      "metadata": {
        "id": "Ut8krltCi5SC"
      }
    },
    {
      "cell_type": "code",
      "source": [
        "X_train = []\n",
        "Y_train = []\n",
        "for i in range(50, data.shape[0]-60):\n",
        "    X_train.append(data[i-50:i])\n",
        "    Y_train.append(data[i,0])"
      ],
      "metadata": {
        "id": "lhPG8kLeZHEJ"
      },
      "execution_count": 549,
      "outputs": []
    },
    {
      "cell_type": "code",
      "source": [
        "X_train, Y_train = np.array(X_train), np.array(Y_train)"
      ],
      "metadata": {
        "id": "B5RSNS1pZKne"
      },
      "execution_count": 550,
      "outputs": []
    },
    {
      "cell_type": "code",
      "source": [
        "X_train.shape, Y_train.shape"
      ],
      "metadata": {
        "colab": {
          "base_uri": "https://localhost:8080/"
        },
        "id": "GTRsthAvZNHm",
        "outputId": "6a9dc116-1f58-40d1-ffd3-b330295bcd09"
      },
      "execution_count": 551,
      "outputs": [
        {
          "output_type": "execute_result",
          "data": {
            "text/plain": [
              "((256, 50, 5), (256,))"
            ]
          },
          "metadata": {},
          "execution_count": 551
        }
      ]
    },
    {
      "cell_type": "markdown",
      "source": [
        "Creating LSTM Test Dataset using 60 samples"
      ],
      "metadata": {
        "id": "ynwi-iY4k-oC"
      }
    },
    {
      "cell_type": "code",
      "source": [
        "X_test = []\n",
        "Y_test = []\n",
        "for i in range(data.shape[0]-60, data.shape[0]):\n",
        "    X_test.append(data[i-50:i])\n",
        "    Y_test.append(data[i,0])\n"
      ],
      "metadata": {
        "id": "8kRN6DKTlC3S"
      },
      "execution_count": 552,
      "outputs": []
    },
    {
      "cell_type": "code",
      "source": [
        "X_test, Y_test = np.array(X_test), np.array(Y_test)"
      ],
      "metadata": {
        "id": "VBFuma7moH5e"
      },
      "execution_count": 553,
      "outputs": []
    },
    {
      "cell_type": "code",
      "source": [
        "X_test.shape, Y_test.shape"
      ],
      "metadata": {
        "colab": {
          "base_uri": "https://localhost:8080/"
        },
        "id": "OfXlWJbeoLZP",
        "outputId": "a862136e-b7ea-4e72-eae4-4e7678f44a7d"
      },
      "execution_count": 554,
      "outputs": [
        {
          "output_type": "execute_result",
          "data": {
            "text/plain": [
              "((60, 50, 5), (60,))"
            ]
          },
          "metadata": {},
          "execution_count": 554
        }
      ]
    },
    {
      "cell_type": "markdown",
      "source": [
        "BUILDING LSTM - Long short term memory"
      ],
      "metadata": {
        "id": "tj5TQ9A4jCTN"
      }
    },
    {
      "cell_type": "code",
      "source": [
        "from tensorflow.keras import Sequential\n",
        "from tensorflow.keras.layers import Dense, LSTM, Dropout"
      ],
      "metadata": {
        "id": "Am1gMvRSZPnq"
      },
      "execution_count": 555,
      "outputs": []
    },
    {
      "cell_type": "markdown",
      "source": [
        "Defining Model in a sequential manner"
      ],
      "metadata": {
        "id": "g8y9QPHojP_6"
      }
    },
    {
      "cell_type": "code",
      "source": [
        "regressor = Sequential()\n",
        "regressor.add(LSTM(units = 50, activation = 'relu', return_sequences = True, input_shape = (X_train.shape[1], 5)))\n",
        "regressor.add(Dropout(0.2))\n",
        "\n",
        "regressor.add(LSTM(units = 80, activation = 'relu', return_sequences = True))\n",
        "\n",
        "regressor.add(LSTM(units = 100, activation = 'relu', return_sequences = True))\n",
        "\n",
        "regressor.add(LSTM(units = 120, activation = 'relu'))\n",
        "\n",
        "regressor.add(Dense(units = 1))"
      ],
      "metadata": {
        "id": "UbrlhJk1ZayN"
      },
      "execution_count": 556,
      "outputs": []
    },
    {
      "cell_type": "code",
      "source": [
        "regressor.summary()"
      ],
      "metadata": {
        "colab": {
          "base_uri": "https://localhost:8080/"
        },
        "id": "tSe8zurKZef2",
        "outputId": "86e7da3e-8ec1-434e-add9-b7306a2f404e"
      },
      "execution_count": 557,
      "outputs": [
        {
          "output_type": "stream",
          "name": "stdout",
          "text": [
            "Model: \"sequential_25\"\n",
            "_________________________________________________________________\n",
            " Layer (type)                Output Shape              Param #   \n",
            "=================================================================\n",
            " lstm_100 (LSTM)             (None, 50, 50)            11200     \n",
            "                                                                 \n",
            " dropout_40 (Dropout)        (None, 50, 50)            0         \n",
            "                                                                 \n",
            " lstm_101 (LSTM)             (None, 50, 80)            41920     \n",
            "                                                                 \n",
            " lstm_102 (LSTM)             (None, 50, 100)           72400     \n",
            "                                                                 \n",
            " lstm_103 (LSTM)             (None, 120)               106080    \n",
            "                                                                 \n",
            " dense_27 (Dense)            (None, 1)                 121       \n",
            "                                                                 \n",
            "=================================================================\n",
            "Total params: 231,721\n",
            "Trainable params: 231,721\n",
            "Non-trainable params: 0\n",
            "_________________________________________________________________\n"
          ]
        }
      ]
    },
    {
      "cell_type": "markdown",
      "source": [
        "OPTIMIZER - ADAM OPTIMIZER"
      ],
      "metadata": {
        "id": "23gxqwGdjoEe"
      }
    },
    {
      "cell_type": "markdown",
      "source": [
        "LOSS FUNCTION - mean_squared_error or mean_absolute_error"
      ],
      "metadata": {
        "id": "oU-00G7PjrNU"
      }
    },
    {
      "cell_type": "markdown",
      "source": [
        "absolute error more accurate and interpretable"
      ],
      "metadata": {
        "id": "fiaLUWAhj4eo"
      }
    },
    {
      "cell_type": "code",
      "source": [
        "regressor.compile(optimizer = 'adam', loss = 'mean_absolute_error')"
      ],
      "metadata": {
        "id": "2oyMIRFIZhey"
      },
      "execution_count": 558,
      "outputs": []
    },
    {
      "cell_type": "markdown",
      "source": [
        "ADJUST TO GET LOWER LOSS\n"
      ],
      "metadata": {
        "id": "Owmvci9kkHgF"
      }
    },
    {
      "cell_type": "code",
      "source": [
        "regressor.fit(X_train, Y_train, epochs = 15, batch_size =35)"
      ],
      "metadata": {
        "colab": {
          "base_uri": "https://localhost:8080/"
        },
        "id": "5q-HIgGMZlD4",
        "outputId": "81796277-e076-4c08-f1ae-9767ed05913c"
      },
      "execution_count": 559,
      "outputs": [
        {
          "output_type": "stream",
          "name": "stdout",
          "text": [
            "Epoch 1/15\n",
            "8/8 [==============================] - 8s 175ms/step - loss: 0.4324\n",
            "Epoch 2/15\n",
            "8/8 [==============================] - 1s 174ms/step - loss: 0.1383\n",
            "Epoch 3/15\n",
            "8/8 [==============================] - 1s 176ms/step - loss: 0.1135\n",
            "Epoch 4/15\n",
            "8/8 [==============================] - 1s 174ms/step - loss: 0.1155\n",
            "Epoch 5/15\n",
            "8/8 [==============================] - 2s 236ms/step - loss: 0.1066\n",
            "Epoch 6/15\n",
            "8/8 [==============================] - 2s 302ms/step - loss: 0.1006\n",
            "Epoch 7/15\n",
            "8/8 [==============================] - 1s 172ms/step - loss: 0.0957\n",
            "Epoch 8/15\n",
            "8/8 [==============================] - 2s 193ms/step - loss: 0.0944\n",
            "Epoch 9/15\n",
            "8/8 [==============================] - 1s 175ms/step - loss: 0.0949\n",
            "Epoch 10/15\n",
            "8/8 [==============================] - 1s 175ms/step - loss: 0.0979\n",
            "Epoch 11/15\n",
            "8/8 [==============================] - 1s 178ms/step - loss: 0.1004\n",
            "Epoch 12/15\n",
            "8/8 [==============================] - 1s 175ms/step - loss: 0.0911\n",
            "Epoch 13/15\n",
            "8/8 [==============================] - 2s 216ms/step - loss: 0.0832\n",
            "Epoch 14/15\n",
            "8/8 [==============================] - 3s 312ms/step - loss: 0.0805\n",
            "Epoch 15/15\n",
            "8/8 [==============================] - 1s 176ms/step - loss: 0.0841\n"
          ]
        },
        {
          "output_type": "execute_result",
          "data": {
            "text/plain": [
              "<keras.callbacks.History at 0x7a89251b0670>"
            ]
          },
          "metadata": {},
          "execution_count": 559
        }
      ]
    },
    {
      "cell_type": "markdown",
      "source": [
        "VALUES SCALED DOWN DUE TO MIN MAX, REVERTING TO ACTUAL VALUE IS NESSASARY"
      ],
      "metadata": {
        "id": "u4lGq6ipkp7I"
      }
    },
    {
      "cell_type": "code",
      "source": [
        "scale = 1/scaler.scale_[0]"
      ],
      "metadata": {
        "id": "zlstH7kbp-qO"
      },
      "execution_count": 560,
      "outputs": []
    },
    {
      "cell_type": "code",
      "source": [
        "Y_test = Y_test*scale"
      ],
      "metadata": {
        "id": "U4G5rttkrWJX"
      },
      "execution_count": 561,
      "outputs": []
    },
    {
      "cell_type": "markdown",
      "source": [
        "PREDICTING THE PRICE"
      ],
      "metadata": {
        "id": "Fb2XZJOxkm_j"
      }
    },
    {
      "cell_type": "code",
      "source": [
        "Y_pred = regressor.predict(X_test)"
      ],
      "metadata": {
        "colab": {
          "base_uri": "https://localhost:8080/"
        },
        "id": "BRVN9PBBaGlh",
        "outputId": "9c23f367-0ec2-4435-c218-945d02b37ac9"
      },
      "execution_count": 562,
      "outputs": [
        {
          "output_type": "stream",
          "name": "stdout",
          "text": [
            "2/2 [==============================] - 1s 47ms/step\n"
          ]
        }
      ]
    },
    {
      "cell_type": "code",
      "source": [
        "Y_pred = Y_pred*scale"
      ],
      "metadata": {
        "id": "KoXsEnteaQDy"
      },
      "execution_count": 563,
      "outputs": []
    },
    {
      "cell_type": "markdown",
      "source": [
        "GRAPH VISUALIZATUION - MATPLOTLIB"
      ],
      "metadata": {
        "id": "VZwy2Yzdk4P8"
      }
    },
    {
      "cell_type": "code",
      "source": [
        "correlation = data_df.corr()\n",
        "plt.figure(figsize=(10,10))\n",
        "sns.heatmap(correlation, cbar=True, square=True, fmt='.2f', annot=True, annot_kws={'size':8}, cmap='RdPu')"
      ],
      "metadata": {
        "colab": {
          "base_uri": "https://localhost:8080/",
          "height": 884
        },
        "id": "Q0pm8Sm0mbFV",
        "outputId": "6fdaa04a-3b65-49e1-f9c7-7ef434d1e69e"
      },
      "execution_count": 564,
      "outputs": [
        {
          "output_type": "stream",
          "name": "stderr",
          "text": [
            "<ipython-input-564-8eb0c6213244>:1: FutureWarning: The default value of numeric_only in DataFrame.corr is deprecated. In a future version, it will default to False. Select only valid columns or specify the value of numeric_only to silence this warning.\n",
            "  correlation = data_df.corr()\n"
          ]
        },
        {
          "output_type": "execute_result",
          "data": {
            "text/plain": [
              "<Axes: >"
            ]
          },
          "metadata": {},
          "execution_count": 564
        },
        {
          "output_type": "display_data",
          "data": {
            "text/plain": [
              "<Figure size 1000x1000 with 2 Axes>"
            ],
            "image/png": "[encoded data removed]"
          },
          "metadata": {}
        }
      ]
    },
    {
      "cell_type": "code",
      "source": [
        "plt.figure(figsize=(13,6))\n",
        "plt.plot(Y_test, color = 'red', label = 'Real Bitcoin Price')\n",
        "plt.plot(Y_pred, color = 'green', label = 'Predicted Bitcoin Price')\n",
        "plt.title('Bitcoin Price Prediction using RNN-LSTM')\n",
        "plt.xlabel('Time')\n",
        "plt.ylabel('Price')\n",
        "plt.legend()\n",
        "plt.show()"
      ],
      "metadata": {
        "colab": {
          "base_uri": "https://localhost:8080/",
          "height": 564
        },
        "id": "4xM4mLQMaXDx",
        "outputId": "2c40af2f-ca90-496c-c4ad-e6f543d120db"
      },
      "execution_count": 565,
      "outputs": [
        {
          "output_type": "display_data",
          "data": {
            "text/plain": [
              "<Figure size 1300x600 with 1 Axes>"
            ],
            "image/png": "[encoded data removed]"
          },
          "metadata": {}
        }
      ]
    }
  ]
}